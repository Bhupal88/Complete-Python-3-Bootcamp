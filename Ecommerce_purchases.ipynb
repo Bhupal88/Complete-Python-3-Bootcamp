{
  "cells": [
    {
      "cell_type": "markdown",
      "metadata": {
        "id": "view-in-github",
        "colab_type": "text"
      },
      "source": [
        "<a href=\"https://colab.research.google.com/github/Bhupal88/Complete-Python-3-Bootcamp/blob/master/Ecommerce_purchases.ipynb\" target=\"_parent\"><img src=\"https://colab.research.google.com/assets/colab-badge.svg\" alt=\"Open In Colab\"/></a>"
      ]
    },
    {
      "cell_type": "markdown",
      "id": "d2946162-facf-486a-b0ee-8967af807963",
      "metadata": {
        "id": "d2946162-facf-486a-b0ee-8967af807963"
      },
      "source": [
        "**E-commerce purchase dataset**\n",
        "***\n",
        "Here, I have worked with a csv file containing a dataset with fake data of Amazon Purchases.\n",
        "\n",
        "I have tried finding data that can be helpful such as Avg purchase price, worked through customer demographics, etc.\n",
        "***"
      ]
    },
    {
      "cell_type": "code",
      "execution_count": null,
      "id": "165c2b68-c580-442d-ae39-e986f08d6078",
      "metadata": {
        "id": "165c2b68-c580-442d-ae39-e986f08d6078"
      },
      "outputs": [],
      "source": [
        "import pandas as pd"
      ]
    },
    {
      "cell_type": "code",
      "execution_count": 1,
      "id": "d66eee77-902f-4c3a-a869-c090cc20aedc",
      "metadata": {
        "colab": {
          "base_uri": "https://localhost:8080/",
          "height": 141
        },
        "id": "d66eee77-902f-4c3a-a869-c090cc20aedc",
        "outputId": "42630c7a-bbe8-46ed-ca64-3a2a2475a9d8"
      },
      "outputs": [
        {
          "output_type": "error",
          "ename": "NameError",
          "evalue": "name 'pd' is not defined",
          "traceback": [
            "\u001b[0;31m---------------------------------------------------------------------------\u001b[0m",
            "\u001b[0;31mNameError\u001b[0m                                 Traceback (most recent call last)",
            "\u001b[0;32m<ipython-input-1-87a334a8dd21>\u001b[0m in \u001b[0;36m<cell line: 1>\u001b[0;34m()\u001b[0m\n\u001b[0;32m----> 1\u001b[0;31m \u001b[0mecom\u001b[0m\u001b[0;34m=\u001b[0m\u001b[0mpd\u001b[0m\u001b[0;34m.\u001b[0m\u001b[0mread_csv\u001b[0m\u001b[0;34m(\u001b[0m\u001b[0;34m'Ecommerce Purchases'\u001b[0m\u001b[0;34m)\u001b[0m\u001b[0;34m\u001b[0m\u001b[0;34m\u001b[0m\u001b[0m\n\u001b[0m",
            "\u001b[0;31mNameError\u001b[0m: name 'pd' is not defined"
          ]
        }
      ],
      "source": [
        "ecom=pd.read_csv('Ecommerce Purchases')"
      ]
    },
    {
      "cell_type": "code",
      "execution_count": null,
      "id": "f5edcced-a154-4636-9de9-f8b20e790882",
      "metadata": {
        "id": "f5edcced-a154-4636-9de9-f8b20e790882",
        "outputId": "3fb1f121-88f9-4076-b1f4-ceb8d8e3d7ae"
      },
      "outputs": [
        {
          "data": {
            "text/html": [
              "<div>\n",
              "<style scoped>\n",
              "    .dataframe tbody tr th:only-of-type {\n",
              "        vertical-align: middle;\n",
              "    }\n",
              "\n",
              "    .dataframe tbody tr th {\n",
              "        vertical-align: top;\n",
              "    }\n",
              "\n",
              "    .dataframe thead th {\n",
              "        text-align: right;\n",
              "    }\n",
              "</style>\n",
              "<table border=\"1\" class=\"dataframe\">\n",
              "  <thead>\n",
              "    <tr style=\"text-align: right;\">\n",
              "      <th></th>\n",
              "      <th>Address</th>\n",
              "      <th>Lot</th>\n",
              "      <th>AM or PM</th>\n",
              "      <th>Browser Info</th>\n",
              "      <th>Company</th>\n",
              "      <th>Credit Card</th>\n",
              "      <th>CC Exp Date</th>\n",
              "      <th>CC Security Code</th>\n",
              "      <th>CC Provider</th>\n",
              "      <th>Email</th>\n",
              "      <th>Job</th>\n",
              "      <th>IP Address</th>\n",
              "      <th>Language</th>\n",
              "      <th>Purchase Price</th>\n",
              "    </tr>\n",
              "  </thead>\n",
              "  <tbody>\n",
              "    <tr>\n",
              "      <th>0</th>\n",
              "      <td>16629 Pace Camp Apt. 448\\nAlexisborough, NE 77...</td>\n",
              "      <td>46 in</td>\n",
              "      <td>PM</td>\n",
              "      <td>Opera/9.56.(X11; Linux x86_64; sl-SI) Presto/2...</td>\n",
              "      <td>Martinez-Herman</td>\n",
              "      <td>6011929061123406</td>\n",
              "      <td>02/20</td>\n",
              "      <td>900</td>\n",
              "      <td>JCB 16 digit</td>\n",
              "      <td>pdunlap@yahoo.com</td>\n",
              "      <td>Scientist, product/process development</td>\n",
              "      <td>149.146.147.205</td>\n",
              "      <td>el</td>\n",
              "      <td>98.14</td>\n",
              "    </tr>\n",
              "    <tr>\n",
              "      <th>1</th>\n",
              "      <td>9374 Jasmine Spurs Suite 508\\nSouth John, TN 8...</td>\n",
              "      <td>28 rn</td>\n",
              "      <td>PM</td>\n",
              "      <td>Opera/8.93.(Windows 98; Win 9x 4.90; en-US) Pr...</td>\n",
              "      <td>Fletcher, Richards and Whitaker</td>\n",
              "      <td>3337758169645356</td>\n",
              "      <td>11/18</td>\n",
              "      <td>561</td>\n",
              "      <td>Mastercard</td>\n",
              "      <td>anthony41@reed.com</td>\n",
              "      <td>Drilling engineer</td>\n",
              "      <td>15.160.41.51</td>\n",
              "      <td>fr</td>\n",
              "      <td>70.73</td>\n",
              "    </tr>\n",
              "    <tr>\n",
              "      <th>2</th>\n",
              "      <td>Unit 0065 Box 5052\\nDPO AP 27450</td>\n",
              "      <td>94 vE</td>\n",
              "      <td>PM</td>\n",
              "      <td>Mozilla/5.0 (compatible; MSIE 9.0; Windows NT ...</td>\n",
              "      <td>Simpson, Williams and Pham</td>\n",
              "      <td>675957666125</td>\n",
              "      <td>08/19</td>\n",
              "      <td>699</td>\n",
              "      <td>JCB 16 digit</td>\n",
              "      <td>amymiller@morales-harrison.com</td>\n",
              "      <td>Customer service manager</td>\n",
              "      <td>132.207.160.22</td>\n",
              "      <td>de</td>\n",
              "      <td>0.95</td>\n",
              "    </tr>\n",
              "    <tr>\n",
              "      <th>3</th>\n",
              "      <td>7780 Julia Fords\\nNew Stacy, WA 45798</td>\n",
              "      <td>36 vm</td>\n",
              "      <td>PM</td>\n",
              "      <td>Mozilla/5.0 (Macintosh; Intel Mac OS X 10_8_0 ...</td>\n",
              "      <td>Williams, Marshall and Buchanan</td>\n",
              "      <td>6011578504430710</td>\n",
              "      <td>02/24</td>\n",
              "      <td>384</td>\n",
              "      <td>Discover</td>\n",
              "      <td>brent16@olson-robinson.info</td>\n",
              "      <td>Drilling engineer</td>\n",
              "      <td>30.250.74.19</td>\n",
              "      <td>es</td>\n",
              "      <td>78.04</td>\n",
              "    </tr>\n",
              "    <tr>\n",
              "      <th>4</th>\n",
              "      <td>23012 Munoz Drive Suite 337\\nNew Cynthia, TX 5...</td>\n",
              "      <td>20 IE</td>\n",
              "      <td>AM</td>\n",
              "      <td>Opera/9.58.(X11; Linux x86_64; it-IT) Presto/2...</td>\n",
              "      <td>Brown, Watson and Andrews</td>\n",
              "      <td>6011456623207998</td>\n",
              "      <td>10/25</td>\n",
              "      <td>678</td>\n",
              "      <td>Diners Club / Carte Blanche</td>\n",
              "      <td>christopherwright@gmail.com</td>\n",
              "      <td>Fine artist</td>\n",
              "      <td>24.140.33.94</td>\n",
              "      <td>es</td>\n",
              "      <td>77.82</td>\n",
              "    </tr>\n",
              "  </tbody>\n",
              "</table>\n",
              "</div>"
            ],
            "text/plain": [
              "                                             Address    Lot AM or PM  \\\n",
              "0  16629 Pace Camp Apt. 448\\nAlexisborough, NE 77...  46 in       PM   \n",
              "1  9374 Jasmine Spurs Suite 508\\nSouth John, TN 8...  28 rn       PM   \n",
              "2                   Unit 0065 Box 5052\\nDPO AP 27450  94 vE       PM   \n",
              "3              7780 Julia Fords\\nNew Stacy, WA 45798  36 vm       PM   \n",
              "4  23012 Munoz Drive Suite 337\\nNew Cynthia, TX 5...  20 IE       AM   \n",
              "\n",
              "                                        Browser Info  \\\n",
              "0  Opera/9.56.(X11; Linux x86_64; sl-SI) Presto/2...   \n",
              "1  Opera/8.93.(Windows 98; Win 9x 4.90; en-US) Pr...   \n",
              "2  Mozilla/5.0 (compatible; MSIE 9.0; Windows NT ...   \n",
              "3  Mozilla/5.0 (Macintosh; Intel Mac OS X 10_8_0 ...   \n",
              "4  Opera/9.58.(X11; Linux x86_64; it-IT) Presto/2...   \n",
              "\n",
              "                           Company       Credit Card CC Exp Date  \\\n",
              "0                  Martinez-Herman  6011929061123406       02/20   \n",
              "1  Fletcher, Richards and Whitaker  3337758169645356       11/18   \n",
              "2       Simpson, Williams and Pham      675957666125       08/19   \n",
              "3  Williams, Marshall and Buchanan  6011578504430710       02/24   \n",
              "4        Brown, Watson and Andrews  6011456623207998       10/25   \n",
              "\n",
              "   CC Security Code                  CC Provider  \\\n",
              "0               900                 JCB 16 digit   \n",
              "1               561                   Mastercard   \n",
              "2               699                 JCB 16 digit   \n",
              "3               384                     Discover   \n",
              "4               678  Diners Club / Carte Blanche   \n",
              "\n",
              "                            Email                                     Job  \\\n",
              "0               pdunlap@yahoo.com  Scientist, product/process development   \n",
              "1              anthony41@reed.com                       Drilling engineer   \n",
              "2  amymiller@morales-harrison.com                Customer service manager   \n",
              "3     brent16@olson-robinson.info                       Drilling engineer   \n",
              "4     christopherwright@gmail.com                             Fine artist   \n",
              "\n",
              "        IP Address Language  Purchase Price  \n",
              "0  149.146.147.205       el           98.14  \n",
              "1     15.160.41.51       fr           70.73  \n",
              "2   132.207.160.22       de            0.95  \n",
              "3     30.250.74.19       es           78.04  \n",
              "4     24.140.33.94       es           77.82  "
            ]
          },
          "execution_count": 3,
          "metadata": {},
          "output_type": "execute_result"
        }
      ],
      "source": [
        "ecom.head()"
      ]
    },
    {
      "cell_type": "code",
      "execution_count": null,
      "id": "cb2a2de7-be5d-4fc6-b216-cfcb928f3df8",
      "metadata": {
        "id": "cb2a2de7-be5d-4fc6-b216-cfcb928f3df8",
        "outputId": "2571c3f1-1650-40c5-aa5d-f97faba57b70"
      },
      "outputs": [
        {
          "name": "stdout",
          "output_type": "stream",
          "text": [
            "<class 'pandas.core.frame.DataFrame'>\n",
            "RangeIndex: 10000 entries, 0 to 9999\n",
            "Data columns (total 14 columns):\n",
            " #   Column            Non-Null Count  Dtype  \n",
            "---  ------            --------------  -----  \n",
            " 0   Address           10000 non-null  object \n",
            " 1   Lot               10000 non-null  object \n",
            " 2   AM or PM          10000 non-null  object \n",
            " 3   Browser Info      10000 non-null  object \n",
            " 4   Company           10000 non-null  object \n",
            " 5   Credit Card       10000 non-null  int64  \n",
            " 6   CC Exp Date       10000 non-null  object \n",
            " 7   CC Security Code  10000 non-null  int64  \n",
            " 8   CC Provider       10000 non-null  object \n",
            " 9   Email             10000 non-null  object \n",
            " 10  Job               10000 non-null  object \n",
            " 11  IP Address        10000 non-null  object \n",
            " 12  Language          10000 non-null  object \n",
            " 13  Purchase Price    10000 non-null  float64\n",
            "dtypes: float64(1), int64(2), object(11)\n",
            "memory usage: 1.1+ MB\n"
          ]
        }
      ],
      "source": [
        "ecom.info()"
      ]
    },
    {
      "cell_type": "code",
      "execution_count": null,
      "id": "b9ed2619-fd2d-458c-945e-3653a2cdfa60",
      "metadata": {
        "id": "b9ed2619-fd2d-458c-945e-3653a2cdfa60"
      },
      "outputs": [],
      "source": []
    },
    {
      "cell_type": "markdown",
      "id": "25e94c4c-b46f-41e2-9117-f0cd29827817",
      "metadata": {
        "id": "25e94c4c-b46f-41e2-9117-f0cd29827817"
      },
      "source": [
        "**Average,min and max Purchase Price**"
      ]
    },
    {
      "cell_type": "code",
      "execution_count": null,
      "id": "8785d421-368a-4a8c-a611-ccb71228a047",
      "metadata": {
        "id": "8785d421-368a-4a8c-a611-ccb71228a047",
        "outputId": "810b409c-cf20-4c9c-b8d1-e4d31bbf3782"
      },
      "outputs": [
        {
          "data": {
            "text/plain": [
              "50.347302"
            ]
          },
          "execution_count": 7,
          "metadata": {},
          "output_type": "execute_result"
        }
      ],
      "source": [
        "ecom['Purchase Price'].mean()"
      ]
    },
    {
      "cell_type": "code",
      "execution_count": null,
      "id": "7d49d75b-48fa-4938-bcf3-980c3f70bc2f",
      "metadata": {
        "id": "7d49d75b-48fa-4938-bcf3-980c3f70bc2f",
        "outputId": "479fa535-c6db-4ec9-9710-53e63b30c1af"
      },
      "outputs": [
        {
          "data": {
            "text/plain": [
              "99.99"
            ]
          },
          "execution_count": 8,
          "metadata": {},
          "output_type": "execute_result"
        }
      ],
      "source": [
        "ecom['Purchase Price'].max()"
      ]
    },
    {
      "cell_type": "code",
      "execution_count": null,
      "id": "4d2a76d6-1df7-496b-a1ef-3c914d082ce0",
      "metadata": {
        "id": "4d2a76d6-1df7-496b-a1ef-3c914d082ce0",
        "outputId": "e9208d76-47af-4631-da2a-c7090b1402bd"
      },
      "outputs": [
        {
          "data": {
            "text/plain": [
              "0.0"
            ]
          },
          "execution_count": 9,
          "metadata": {},
          "output_type": "execute_result"
        }
      ],
      "source": [
        "ecom['Purchase Price'].min()"
      ]
    },
    {
      "cell_type": "code",
      "execution_count": null,
      "id": "9c13b7fb-4322-41a1-87f1-e2a77176ad38",
      "metadata": {
        "id": "9c13b7fb-4322-41a1-87f1-e2a77176ad38"
      },
      "outputs": [],
      "source": []
    },
    {
      "cell_type": "markdown",
      "id": "36dfd517-d222-46ce-abc7-703d5ede35bc",
      "metadata": {
        "id": "36dfd517-d222-46ce-abc7-703d5ede35bc"
      },
      "source": [
        "**Number of people that have English 'en' as their Language of choice on the website**"
      ]
    },
    {
      "cell_type": "code",
      "execution_count": null,
      "id": "735cbf11-bbdb-4e48-9a55-1235ed4d3ee8",
      "metadata": {
        "id": "735cbf11-bbdb-4e48-9a55-1235ed4d3ee8",
        "outputId": "7faddbce-1d5f-4f93-f7e1-5c6ed612ddd6"
      },
      "outputs": [
        {
          "data": {
            "text/plain": [
              "Address             1098\n",
              "Lot                 1098\n",
              "AM or PM            1098\n",
              "Browser Info        1098\n",
              "Company             1098\n",
              "Credit Card         1098\n",
              "CC Exp Date         1098\n",
              "CC Security Code    1098\n",
              "CC Provider         1098\n",
              "Email               1098\n",
              "Job                 1098\n",
              "IP Address          1098\n",
              "Language            1098\n",
              "Purchase Price      1098\n",
              "dtype: int64"
            ]
          },
          "execution_count": 16,
          "metadata": {},
          "output_type": "execute_result"
        }
      ],
      "source": [
        "ecom[ecom['Language']=='en'].count()"
      ]
    },
    {
      "cell_type": "code",
      "execution_count": null,
      "id": "4266b1b7-1a82-485a-852f-4f463b0e367b",
      "metadata": {
        "id": "4266b1b7-1a82-485a-852f-4f463b0e367b"
      },
      "outputs": [],
      "source": []
    },
    {
      "cell_type": "markdown",
      "id": "00d52d52-1432-41dd-8eb4-2ffba5177bd8",
      "metadata": {
        "id": "00d52d52-1432-41dd-8eb4-2ffba5177bd8"
      },
      "source": [
        "**Number of people that have the job title 'Lawyer'**"
      ]
    },
    {
      "cell_type": "code",
      "execution_count": null,
      "id": "3a6e3148-6118-449f-b0be-1980af6cb8a6",
      "metadata": {
        "id": "3a6e3148-6118-449f-b0be-1980af6cb8a6",
        "outputId": "2ec01c15-69de-4ecf-e3dc-efd69c804d10"
      },
      "outputs": [
        {
          "name": "stdout",
          "output_type": "stream",
          "text": [
            "<class 'pandas.core.frame.DataFrame'>\n",
            "Index: 30 entries, 470 to 9979\n",
            "Data columns (total 14 columns):\n",
            " #   Column            Non-Null Count  Dtype  \n",
            "---  ------            --------------  -----  \n",
            " 0   Address           30 non-null     object \n",
            " 1   Lot               30 non-null     object \n",
            " 2   AM or PM          30 non-null     object \n",
            " 3   Browser Info      30 non-null     object \n",
            " 4   Company           30 non-null     object \n",
            " 5   Credit Card       30 non-null     int64  \n",
            " 6   CC Exp Date       30 non-null     object \n",
            " 7   CC Security Code  30 non-null     int64  \n",
            " 8   CC Provider       30 non-null     object \n",
            " 9   Email             30 non-null     object \n",
            " 10  Job               30 non-null     object \n",
            " 11  IP Address        30 non-null     object \n",
            " 12  Language          30 non-null     object \n",
            " 13  Purchase Price    30 non-null     float64\n",
            "dtypes: float64(1), int64(2), object(11)\n",
            "memory usage: 3.5+ KB\n"
          ]
        }
      ],
      "source": [
        "ecom[ecom['Job']=='Lawyer'].info()"
      ]
    },
    {
      "cell_type": "code",
      "execution_count": null,
      "id": "813541e7-4515-4d1d-8bb6-a3ed612e9849",
      "metadata": {
        "id": "813541e7-4515-4d1d-8bb6-a3ed612e9849"
      },
      "outputs": [],
      "source": []
    },
    {
      "cell_type": "markdown",
      "id": "849afb14-812d-4270-9bbf-7aac6323ddbc",
      "metadata": {
        "id": "849afb14-812d-4270-9bbf-7aac6323ddbc"
      },
      "source": [
        "**Number of people that made the purchase during the AM**"
      ]
    },
    {
      "cell_type": "code",
      "execution_count": null,
      "id": "8c05bd6f-98c6-44b4-8eb9-a96b1d718819",
      "metadata": {
        "id": "8c05bd6f-98c6-44b4-8eb9-a96b1d718819",
        "outputId": "993a7667-96b8-470c-f498-46773b8655d8"
      },
      "outputs": [
        {
          "data": {
            "text/plain": [
              "4932"
            ]
          },
          "execution_count": 25,
          "metadata": {},
          "output_type": "execute_result"
        }
      ],
      "source": [
        "sum(ecom['AM or PM']=='AM')"
      ]
    },
    {
      "cell_type": "code",
      "execution_count": null,
      "id": "24154710-9592-4850-b0a4-ae22cf4145b6",
      "metadata": {
        "id": "24154710-9592-4850-b0a4-ae22cf4145b6",
        "outputId": "1648ed48-ef7e-49e0-ae14-eb3f53bd940d"
      },
      "outputs": [
        {
          "data": {
            "text/plain": [
              "5068"
            ]
          },
          "execution_count": 26,
          "metadata": {},
          "output_type": "execute_result"
        }
      ],
      "source": [
        "sum(ecom['AM or PM']=='PM')"
      ]
    },
    {
      "cell_type": "code",
      "execution_count": null,
      "id": "c3237383-ebc6-48ca-87da-2d2df0ff6c99",
      "metadata": {
        "id": "c3237383-ebc6-48ca-87da-2d2df0ff6c99"
      },
      "outputs": [],
      "source": []
    },
    {
      "cell_type": "markdown",
      "id": "28a30715-cfd4-4055-8ed7-e0027b52527e",
      "metadata": {
        "id": "28a30715-cfd4-4055-8ed7-e0027b52527e"
      },
      "source": [
        "**Most common job titles: 5**"
      ]
    },
    {
      "cell_type": "code",
      "execution_count": null,
      "id": "9d20fc3c-a337-4b5f-868d-ad4e67daad42",
      "metadata": {
        "id": "9d20fc3c-a337-4b5f-868d-ad4e67daad42",
        "outputId": "9eda104b-0037-4a34-e658-6fe7b8441673"
      },
      "outputs": [
        {
          "data": {
            "text/plain": [
              "Job\n",
              "Interior and spatial designer    31\n",
              "Lawyer                           30\n",
              "Social researcher                28\n",
              "Purchasing manager               27\n",
              "Designer, jewellery              27\n",
              "Name: count, dtype: int64"
            ]
          },
          "execution_count": 29,
          "metadata": {},
          "output_type": "execute_result"
        }
      ],
      "source": [
        "ecom['Job'].value_counts().head(5)"
      ]
    },
    {
      "cell_type": "code",
      "execution_count": null,
      "id": "c5accfad-c770-48ac-a086-c8f5a4bba5d0",
      "metadata": {
        "id": "c5accfad-c770-48ac-a086-c8f5a4bba5d0"
      },
      "outputs": [],
      "source": []
    },
    {
      "cell_type": "markdown",
      "id": "9ea238ca-db77-4159-bd4a-68c4613920c5",
      "metadata": {
        "id": "9ea238ca-db77-4159-bd4a-68c4613920c5"
      },
      "source": [
        "**Purchase Price for the transaction that came from Lot: \"90 WT\"**"
      ]
    },
    {
      "cell_type": "code",
      "execution_count": null,
      "id": "61c4a195-43c0-49fd-85ea-6da69ac0968e",
      "metadata": {
        "id": "61c4a195-43c0-49fd-85ea-6da69ac0968e",
        "outputId": "62319822-f1b2-4345-862f-c1e3a3740e68"
      },
      "outputs": [
        {
          "data": {
            "text/plain": [
              "513    75.1\n",
              "Name: Purchase Price, dtype: float64"
            ]
          },
          "execution_count": 30,
          "metadata": {},
          "output_type": "execute_result"
        }
      ],
      "source": [
        "ecom[ecom['Lot']=='90 WT']['Purchase Price']"
      ]
    },
    {
      "cell_type": "code",
      "execution_count": null,
      "id": "0b5dad11-3f4b-449d-84ee-09cde965595e",
      "metadata": {
        "id": "0b5dad11-3f4b-449d-84ee-09cde965595e"
      },
      "outputs": [],
      "source": []
    },
    {
      "cell_type": "markdown",
      "id": "219fd07b-badf-4328-bce9-d9b67924b5ec",
      "metadata": {
        "id": "219fd07b-badf-4328-bce9-d9b67924b5ec"
      },
      "source": [
        "**Email of the person with the Credit Card Number: 4926535242672853**"
      ]
    },
    {
      "cell_type": "code",
      "execution_count": null,
      "id": "7159343f-9e37-4b2c-b768-9e4c52de3b2f",
      "metadata": {
        "id": "7159343f-9e37-4b2c-b768-9e4c52de3b2f",
        "outputId": "973478a4-1144-466a-87cd-4808b63942a1"
      },
      "outputs": [
        {
          "data": {
            "text/plain": [
              "1234    bondellen@williams-garza.com\n",
              "Name: Email, dtype: object"
            ]
          },
          "execution_count": 31,
          "metadata": {},
          "output_type": "execute_result"
        }
      ],
      "source": [
        "ecom[ecom['Credit Card']==4926535242672853]['Email']"
      ]
    },
    {
      "cell_type": "code",
      "execution_count": null,
      "id": "ae393d30-f592-4c2f-be02-498d5d09ebe5",
      "metadata": {
        "id": "ae393d30-f592-4c2f-be02-498d5d09ebe5"
      },
      "outputs": [],
      "source": []
    },
    {
      "cell_type": "markdown",
      "id": "ec123cd5-3166-4918-a043-374c2d7e0dd6",
      "metadata": {
        "id": "ec123cd5-3166-4918-a043-374c2d7e0dd6"
      },
      "source": [
        "**Number of people have American Express as their Credit Card Provider and made a purchase above $95**"
      ]
    },
    {
      "cell_type": "code",
      "execution_count": null,
      "id": "59435346-b859-4bdd-973d-62f6743195a5",
      "metadata": {
        "id": "59435346-b859-4bdd-973d-62f6743195a5",
        "outputId": "cf2f4628-6b52-434a-bcc8-607e6aef34df"
      },
      "outputs": [
        {
          "data": {
            "text/plain": [
              "Address             39\n",
              "Lot                 39\n",
              "AM or PM            39\n",
              "Browser Info        39\n",
              "Company             39\n",
              "Credit Card         39\n",
              "CC Exp Date         39\n",
              "CC Security Code    39\n",
              "CC Provider         39\n",
              "Email               39\n",
              "Job                 39\n",
              "IP Address          39\n",
              "Language            39\n",
              "Purchase Price      39\n",
              "dtype: int64"
            ]
          },
          "execution_count": 35,
          "metadata": {},
          "output_type": "execute_result"
        }
      ],
      "source": [
        "ecom[(ecom['CC Provider']=='American Express') & (ecom['Purchase Price']>95)].count()"
      ]
    },
    {
      "cell_type": "code",
      "execution_count": null,
      "id": "052e6a15-b4ad-4d64-bee1-ee800a9656ec",
      "metadata": {
        "id": "052e6a15-b4ad-4d64-bee1-ee800a9656ec"
      },
      "outputs": [],
      "source": []
    },
    {
      "cell_type": "markdown",
      "id": "a2ee1ec6-8623-46c2-9b74-69e569d5229b",
      "metadata": {
        "id": "a2ee1ec6-8623-46c2-9b74-69e569d5229b"
      },
      "source": [
        "**Number of people have a credit card that expires in 2025**"
      ]
    },
    {
      "cell_type": "code",
      "execution_count": null,
      "id": "280c6711-352c-442e-b277-623dad143c7c",
      "metadata": {
        "id": "280c6711-352c-442e-b277-623dad143c7c",
        "outputId": "8ce33a97-0b84-4cd9-fbb2-63e940f43706"
      },
      "outputs": [
        {
          "data": {
            "text/plain": [
              "1033"
            ]
          },
          "execution_count": 53,
          "metadata": {},
          "output_type": "execute_result"
        }
      ],
      "source": [
        "sum(ecom['CC Exp Date'].apply(lambda exp:exp[3:]=='25'))"
      ]
    },
    {
      "cell_type": "code",
      "execution_count": null,
      "id": "2c0ec940-9221-4497-9c39-c8071d1f94b2",
      "metadata": {
        "id": "2c0ec940-9221-4497-9c39-c8071d1f94b2"
      },
      "outputs": [],
      "source": []
    },
    {
      "cell_type": "markdown",
      "id": "d8dd5fcb-ed24-449d-9b41-542094373b81",
      "metadata": {
        "id": "d8dd5fcb-ed24-449d-9b41-542094373b81"
      },
      "source": [
        "**The top 5 most popular email providers/hosts**"
      ]
    },
    {
      "cell_type": "code",
      "execution_count": null,
      "id": "2c729713-54e2-43fe-aef0-47c262c80732",
      "metadata": {
        "id": "2c729713-54e2-43fe-aef0-47c262c80732"
      },
      "outputs": [],
      "source": [
        "def mailprov(x):\n",
        "    return x.split('@')[1]"
      ]
    },
    {
      "cell_type": "code",
      "execution_count": null,
      "id": "ff61ccb2-4474-4bea-afda-661dca31d1d6",
      "metadata": {
        "scrolled": true,
        "id": "ff61ccb2-4474-4bea-afda-661dca31d1d6",
        "outputId": "aaf34452-7dfb-45c4-c609-25d5be0c31e7"
      },
      "outputs": [
        {
          "data": {
            "text/plain": [
              "Email\n",
              "hotmail.com     1638\n",
              "yahoo.com       1616\n",
              "gmail.com       1605\n",
              "smith.com         42\n",
              "williams.com      37\n",
              "Name: count, dtype: int64"
            ]
          },
          "execution_count": 48,
          "metadata": {},
          "output_type": "execute_result"
        }
      ],
      "source": [
        "ecom['Email'].apply(lambda x: mailprov(x)).value_counts().head(5)"
      ]
    },
    {
      "cell_type": "markdown",
      "id": "b7b39838-22e4-48e2-ab74-f432613de90c",
      "metadata": {
        "id": "b7b39838-22e4-48e2-ab74-f432613de90c"
      },
      "source": [
        "***"
      ]
    },
    {
      "cell_type": "code",
      "execution_count": null,
      "id": "45df7f8c-94bd-43c2-8d40-393f5642bd38",
      "metadata": {
        "id": "45df7f8c-94bd-43c2-8d40-393f5642bd38"
      },
      "outputs": [],
      "source": []
    }
  ],
  "metadata": {
    "kernelspec": {
      "display_name": "Python 3 (ipykernel)",
      "language": "python",
      "name": "python3"
    },
    "language_info": {
      "codemirror_mode": {
        "name": "ipython",
        "version": 3
      },
      "file_extension": ".py",
      "mimetype": "text/x-python",
      "name": "python",
      "nbconvert_exporter": "python",
      "pygments_lexer": "ipython3",
      "version": "3.11.7"
    },
    "colab": {
      "provenance": [],
      "include_colab_link": true
    }
  },
  "nbformat": 4,
  "nbformat_minor": 5
}